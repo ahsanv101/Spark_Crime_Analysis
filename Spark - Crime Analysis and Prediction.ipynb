{
 "cells": [
  {
   "cell_type": "code",
   "execution_count": 1,
   "id": "896ca454",
   "metadata": {},
   "outputs": [],
   "source": [
    "import pyspark\n",
    "spark = pyspark.sql.SparkSession.builder.appName(\"clipper-pyspark\").getOrCreate()\n",
    "sc = spark.sparkContext\n",
    "import seaborn as sns\n",
    "import matplotlib.pyplot as plt\n",
    "import numpy as np\n",
    "%matplotlib inline\n",
    "np.random.seed(60)\n",
    "from pyspark.sql.types import *"
   ]
  },
  {
   "cell_type": "code",
   "execution_count": 2,
   "id": "378c4eb5",
   "metadata": {},
   "outputs": [
    {
     "name": "stdout",
     "output_type": "stream",
     "text": [
      "Complete data schema\n",
      "root\n",
      " |-- PdId: long (nullable = true)\n",
      " |-- IncidntNum: integer (nullable = true)\n",
      " |-- Incident Code: integer (nullable = true)\n",
      " |-- Category: string (nullable = true)\n",
      " |-- Descript: string (nullable = true)\n",
      " |-- DayOfWeek: string (nullable = true)\n",
      " |-- Date: string (nullable = true)\n",
      " |-- Time: timestamp (nullable = true)\n",
      " |-- PdDistrict: string (nullable = true)\n",
      " |-- Resolution: string (nullable = true)\n",
      " |-- Address: string (nullable = true)\n",
      " |-- X: double (nullable = true)\n",
      " |-- Y: double (nullable = true)\n",
      " |-- location: string (nullable = true)\n",
      " |-- SF Find Neighborhoods 2 2: integer (nullable = true)\n",
      " |-- Current Police Districts 2 2: integer (nullable = true)\n",
      " |-- Current Supervisor Districts 2 2: integer (nullable = true)\n",
      " |-- Analysis Neighborhoods 2 2: integer (nullable = true)\n",
      " |-- DELETE - Fire Prevention Districts 2 2: integer (nullable = true)\n",
      " |-- DELETE - Police Districts 2 2: integer (nullable = true)\n",
      " |-- DELETE - Supervisor Districts 2 2: integer (nullable = true)\n",
      " |-- DELETE - Zip Codes 2 2: integer (nullable = true)\n",
      " |-- DELETE - Neighborhoods 2 2: integer (nullable = true)\n",
      " |-- DELETE - 2017 Fix It Zones 2 2: integer (nullable = true)\n",
      " |-- Civic Center Harm Reduction Project Boundary 2 2: integer (nullable = true)\n",
      " |-- Fix It Zones as of 2017-11-06  2 2: integer (nullable = true)\n",
      " |-- DELETE - HSOC Zones 2 2: integer (nullable = true)\n",
      " |-- Fix It Zones as of 2018-02-07 2 2: integer (nullable = true)\n",
      " |-- CBD, BID and GBD Boundaries as of 2017 2 2: integer (nullable = true)\n",
      " |-- Areas of Vulnerability, 2016 2 2: integer (nullable = true)\n",
      " |-- Central Market/Tenderloin Boundary 2 2: integer (nullable = true)\n",
      " |-- Central Market/Tenderloin Boundary Polygon - Updated 2 2: integer (nullable = true)\n",
      " |-- HSOC Zones as of 2018-06-05 2 2: integer (nullable = true)\n",
      " |-- OWED Public Spaces 2 2: integer (nullable = true)\n",
      " |-- Neighborhoods 2: integer (nullable = true)\n",
      "\n",
      "None\n",
      "Examples\n",
      "+--------------+----------+-------------+-------------+--------------------+---------+----------+-------------------+----------+----------+--------------------+-----------------+----------------+--------------------+-------------------------+----------------------------+--------------------------------+--------------------------+--------------------------------------+-----------------------------+---------------------------------+----------------------+--------------------------+------------------------------+------------------------------------------------+----------------------------------+-----------------------+---------------------------------+------------------------------------------+--------------------------------+--------------------------------------+--------------------------------------------------------+-------------------------------+----------------------+---------------+\n",
      "|          PdId|IncidntNum|Incident Code|     Category|            Descript|DayOfWeek|      Date|               Time|PdDistrict|Resolution|             Address|                X|               Y|            location|SF Find Neighborhoods 2 2|Current Police Districts 2 2|Current Supervisor Districts 2 2|Analysis Neighborhoods 2 2|DELETE - Fire Prevention Districts 2 2|DELETE - Police Districts 2 2|DELETE - Supervisor Districts 2 2|DELETE - Zip Codes 2 2|DELETE - Neighborhoods 2 2|DELETE - 2017 Fix It Zones 2 2|Civic Center Harm Reduction Project Boundary 2 2|Fix It Zones as of 2017-11-06  2 2|DELETE - HSOC Zones 2 2|Fix It Zones as of 2018-02-07 2 2|CBD, BID and GBD Boundaries as of 2017 2 2|Areas of Vulnerability, 2016 2 2|Central Market/Tenderloin Boundary 2 2|Central Market/Tenderloin Boundary Polygon - Updated 2 2|HSOC Zones as of 2018-06-05 2 2|OWED Public Spaces 2 2|Neighborhoods 2|\n",
      "+--------------+----------+-------------+-------------+--------------------+---------+----------+-------------------+----------+----------+--------------------+-----------------+----------------+--------------------+-------------------------+----------------------------+--------------------------------+--------------------------+--------------------------------------+-----------------------------+---------------------------------+----------------------+--------------------------+------------------------------+------------------------------------------------+----------------------------------+-----------------------+---------------------------------+------------------------------------------+--------------------------------+--------------------------------------+--------------------------------------------------------+-------------------------------+----------------------+---------------+\n",
      "| 4133422003074|  41334220|         3074|      ROBBERY|ROBBERY, BODILY F...|   Monday|11/22/2004|2023-08-27 17:50:00| INGLESIDE|      NONE|GENEVA AV / SANTO...|-122.420084075249|37.7083109744362|POINT (-122.42008...|                     null|                        null|                               9|                      null|                                  null|                         null|                                8|                   309|                      null|                          null|                                            null|                              null|                   null|                             null|                                      null|                            null|                                  null|                                                    null|                           null|                  null|           null|\n",
      "| 5118535807021|  51185358|         7021|VEHICLE THEFT|   STOLEN AUTOMOBILE|  Tuesday|10/18/2005|2023-08-27 20:00:00|      PARK|      NONE|TURK ST / STJOSEP...|           -120.5|            90.0|POINT (-120.50000...|                     null|                        null|                            null|                      null|                                  null|                         null|                             null|                  null|                      null|                          null|                                            null|                              null|                   null|                             null|                                      null|                            null|                                  null|                                                    null|                           null|                  null|           null|\n",
      "| 4018830907021|  40188309|         7021|VEHICLE THEFT|   STOLEN AUTOMOBILE|   Sunday|02/15/2004|2023-08-27 02:00:00|  SOUTHERN|      NONE| BRANNAN ST / 1ST ST|           -120.5|            90.0|POINT (-120.50000...|                     null|                        null|                            null|                      null|                                  null|                         null|                             null|                  null|                      null|                          null|                                            null|                              null|                   null|                             null|                                      null|                            null|                                  null|                                                    null|                           null|                  null|           null|\n",
      "|11014543126030| 110145431|        26030|        ARSON|               ARSON|   Friday|02/18/2011|2023-08-27 05:27:00| INGLESIDE|      NONE|0 Block of SANJUA...| -122.43622001281|37.7243766140428|POINT (-122.43622...|                       94|                           9|                               1|                        28|                                     9|                            7|                                6|                 28861|                        25|                          null|                                            null|                              null|                   null|                             null|                                      null|                               1|                                  null|                                                    null|                           null|                  null|             94|\n",
      "|10108108004134| 101081080|         4134|      ASSAULT|             BATTERY|   Sunday|11/21/2010|2023-08-27 17:00:00|  SOUTHERN|      NONE|400 Block of 10TH ST|-122.410541166987|37.7709130566165|POINT (-122.41054...|                       32|                           1|                              10|                        34|                                     8|                            2|                                9|                 28853|                        34|                          null|                                            null|                              null|                   null|                             null|                                      null|                               2|                                  null|                                                    null|                           null|                  null|             32|\n",
      "+--------------+----------+-------------+-------------+--------------------+---------+----------+-------------------+----------+----------+--------------------+-----------------+----------------+--------------------+-------------------------+----------------------------+--------------------------------+--------------------------+--------------------------------------+-----------------------------+---------------------------------+----------------------+--------------------------+------------------------------+------------------------------------------------+----------------------------------+-----------------------+---------------------------------+------------------------------------------+--------------------------------+--------------------------------------+--------------------------------------------------------+-------------------------------+----------------------+---------------+\n",
      "only showing top 5 rows\n",
      "\n"
     ]
    },
    {
     "name": "stdout",
     "output_type": "stream",
     "text": [
      "records:  2129525\n"
     ]
    }
   ],
   "source": [
    "from pyspark.sql.functions import col, lower\n",
    "df = spark.read.format('csv')\\\n",
    "          .option('header','true')\\\n",
    "          .option('inferSchema', 'true')\\\n",
    "          .option('timestamp', 'true')\\\n",
    "          .load('./data/train_data.csv')\n",
    "\n",
    "data = df.select(lower(col('Category')),lower(col('Descript')),col('Date'),lower(col('DayOfWeek')),lower(col('Resolution')))\\\n",
    "        .withColumnRenamed('lower(Category)','Category')\\\n",
    "        .withColumnRenamed('lower(Descript)', 'Description')\\\n",
    "        .withColumnRenamed('lower(DayOfWeek)', 'Day of Week')\\\n",
    "        .withColumnRenamed('lower(Resolution)', 'Resolution')\n",
    "\n",
    "\n",
    "data.cache()\n",
    "print('Complete data schema')\n",
    "print(df.printSchema())\n",
    "\n",
    "print('Examples')\n",
    "df.show(5)\n",
    "\n",
    "print('records: ', df.count())"
   ]
  },
  {
   "cell_type": "markdown",
   "id": "6cbe0376",
   "metadata": {},
   "source": [
    "# Part 1: Data Analysis\n",
    "\n",
    "## Selecting the categories with the most crime and arranging by count"
   ]
  },
  {
   "cell_type": "code",
   "execution_count": 3,
   "id": "d561f321",
   "metadata": {},
   "outputs": [
    {
     "name": "stdout",
     "output_type": "stream",
     "text": [
      "+--------------------+------+\n",
      "|            Category| count|\n",
      "+--------------------+------+\n",
      "|       larceny/theft|477975|\n",
      "|      other offenses|301874|\n",
      "|        non-criminal|236928|\n",
      "|             assault|167042|\n",
      "|       vehicle theft|126228|\n",
      "|       drug/narcotic|117821|\n",
      "|           vandalism|114718|\n",
      "|            warrants| 99821|\n",
      "|            burglary| 91067|\n",
      "|      suspicious occ| 79087|\n",
      "|             robbery| 54467|\n",
      "|      missing person| 44268|\n",
      "|               fraud| 41348|\n",
      "|forgery/counterfe...| 22995|\n",
      "|     secondary codes| 22378|\n",
      "|         weapon laws| 21004|\n",
      "|            trespass| 19194|\n",
      "|        prostitution| 16501|\n",
      "|     stolen property| 11450|\n",
      "|  disorderly conduct|  9932|\n",
      "+--------------------+------+\n",
      "only showing top 20 rows\n",
      "\n"
     ]
    }
   ],
   "source": [
    "top_crime = data.groupby('Category').count()\n",
    "top_crime.sort(col(\"count\").desc()).show()"
   ]
  },
  {
   "cell_type": "markdown",
   "id": "51dde597",
   "metadata": {},
   "source": [
    "It seems that theft/larceny and other offenses lead this followed by other crimes and non criminal. It is still alarming to see that assault and burglary has such a high number. \n",
    "\n",
    "Let's do the same query using spark sql"
   ]
  },
  {
   "cell_type": "code",
   "execution_count": 9,
   "id": "389312bf",
   "metadata": {},
   "outputs": [
    {
     "name": "stdout",
     "output_type": "stream",
     "text": [
      "+--------------------+------+\n",
      "|            Category| count|\n",
      "+--------------------+------+\n",
      "|       larceny/theft|477975|\n",
      "|      other offenses|301874|\n",
      "|        non-criminal|236928|\n",
      "|             assault|167042|\n",
      "|       vehicle theft|126228|\n",
      "|       drug/narcotic|117821|\n",
      "|           vandalism|114718|\n",
      "|            warrants| 99821|\n",
      "|            burglary| 91067|\n",
      "|      suspicious occ| 79087|\n",
      "|             robbery| 54467|\n",
      "|      missing person| 44268|\n",
      "|               fraud| 41348|\n",
      "|forgery/counterfe...| 22995|\n",
      "|     secondary codes| 22378|\n",
      "|         weapon laws| 21004|\n",
      "|            trespass| 19194|\n",
      "|        prostitution| 16501|\n",
      "|     stolen property| 11450|\n",
      "|  disorderly conduct|  9932|\n",
      "+--------------------+------+\n",
      "only showing top 20 rows\n",
      "\n"
     ]
    }
   ],
   "source": [
    "data.createOrReplaceTempView('crime')\n",
    "sqldf = spark.sql('select Category,count(*) as count from crime group by Category order by count(*) desc')\n",
    "sqldf.show()"
   ]
  },
  {
   "cell_type": "markdown",
   "id": "6d1b9fe4",
   "metadata": {},
   "source": [
    "##  Day of the week appear the most crimes"
   ]
  },
  {
   "cell_type": "code",
   "execution_count": 24,
   "id": "d82428da",
   "metadata": {
    "scrolled": true
   },
   "outputs": [
    {
     "name": "stdout",
     "output_type": "stream",
     "text": [
      "+---------+------+\n",
      "|      Day| count|\n",
      "+---------+------+\n",
      "|   friday|324151|\n",
      "|wednesday|311601|\n",
      "| saturday|308907|\n",
      "| thursday|303893|\n",
      "|  tuesday|302455|\n",
      "|   monday|294530|\n",
      "|   sunday|283988|\n",
      "+---------+------+\n",
      "\n"
     ]
    }
   ],
   "source": [
    "topday = data.groupby('Day of Week').count().withColumnRenamed('Day of Week','Day')\n",
    "topday.sort(col(\"count\").desc()).show()"
   ]
  },
  {
   "cell_type": "markdown",
   "id": "78879ebd",
   "metadata": {},
   "source": [
    "There doesn't seem to be any sort of relations between the day of the weeks. More or less they remain quite balanced. It can be deduced that more crimes took place on Friday than on Sunday."
   ]
  },
  {
   "cell_type": "markdown",
   "id": "c629dc48",
   "metadata": {},
   "source": [
    "# How are the resolutions for each category?"
   ]
  },
  {
   "cell_type": "code",
   "execution_count": 4,
   "id": "4d51478d",
   "metadata": {},
   "outputs": [
    {
     "name": "stdout",
     "output_type": "stream",
     "text": [
      "+--------------------+--------------------+------+\n",
      "|            Category|          Resolution| count|\n",
      "+--------------------+--------------------+------+\n",
      "|       larceny/theft|                none|437927|\n",
      "|        non-criminal|                none|184375|\n",
      "|       vehicle theft|                none|115980|\n",
      "|      other offenses|      arrest, booked|115427|\n",
      "|             assault|                none|104543|\n",
      "|           vandalism|                none|101778|\n",
      "|       drug/narcotic|      arrest, booked| 97926|\n",
      "|      other offenses|       arrest, cited| 94817|\n",
      "|            warrants|      arrest, booked| 93092|\n",
      "|      other offenses|                none| 86815|\n",
      "|            burglary|                none| 76653|\n",
      "|      suspicious occ|                none| 70514|\n",
      "|             assault|      arrest, booked| 49246|\n",
      "|             robbery|                none| 43082|\n",
      "|               fraud|                none| 32057|\n",
      "|        non-criminal|   psychopathic case| 27027|\n",
      "|       larceny/theft|      arrest, booked| 25136|\n",
      "|      missing person|                none| 21630|\n",
      "|      missing person|             located| 19615|\n",
      "|forgery/counterfe...|                none| 14449|\n",
      "|         weapon laws|      arrest, booked| 13334|\n",
      "|     secondary codes|                none| 12836|\n",
      "|            burglary|      arrest, booked| 12765|\n",
      "|       larceny/theft|       arrest, cited| 10463|\n",
      "|       drug/narcotic|                none| 10256|\n",
      "|        non-criminal|      arrest, booked|  9918|\n",
      "|     stolen property|      arrest, booked|  9693|\n",
      "|        prostitution|       arrest, cited|  9667|\n",
      "|             robbery|      arrest, booked|  9598|\n",
      "|       drug/narcotic|       arrest, cited|  9046|\n",
      "|           vandalism|      arrest, booked|  8734|\n",
      "|   recovered vehicle|                none|  8113|\n",
      "|     secondary codes|      arrest, booked|  7811|\n",
      "|            trespass|      arrest, booked|  7598|\n",
      "|         drunkenness|      arrest, booked|  7471|\n",
      "|        non-criminal|           unfounded|  7398|\n",
      "|             assault|       arrest, cited|  7027|\n",
      "|            trespass|                none|  6287|\n",
      "|         weapon laws|                none|  6070|\n",
      "|        prostitution|      arrest, booked|  5780|\n",
      "|sex offenses, for...|                none|  5575|\n",
      "|            warrants|                none|  5482|\n",
      "|       vehicle theft|      arrest, booked|  5064|\n",
      "|            trespass|       arrest, cited|  5053|\n",
      "|driving under the...|      arrest, booked|  4941|\n",
      "|               fraud|      arrest, booked|  4940|\n",
      "|       vehicle theft|           unfounded|  4789|\n",
      "|forgery/counterfe...|      arrest, booked|  4339|\n",
      "|  disorderly conduct|      arrest, booked|  3702|\n",
      "|  disorderly conduct|                none|  3458|\n",
      "|        non-criminal|       arrest, cited|  3220|\n",
      "|               arson|                none|  3174|\n",
      "|           vandalism|       arrest, cited|  2967|\n",
      "|      suspicious occ|      arrest, booked|  2765|\n",
      "|  disorderly conduct|       arrest, cited|  2627|\n",
      "|      suspicious occ|           unfounded|  2507|\n",
      "|          kidnapping|      arrest, booked|  2165|\n",
      "|        embezzlement|                none|  2147|\n",
      "|             assault|district attorney...|  2051|\n",
      "|               fraud|      not prosecuted|  1940|\n",
      "|forgery/counterfe...|prosecuted by out...|  1866|\n",
      "|         liquor laws|      arrest, booked|  1839|\n",
      "|             assault|complainant refus...|  1797|\n",
      "|          kidnapping|                none|  1793|\n",
      "|         drunkenness|                none|  1725|\n",
      "|      other offenses|           unfounded|  1715|\n",
      "|sex offenses, for...|      arrest, booked|  1648|\n",
      "|       larceny/theft|      not prosecuted|  1600|\n",
      "|     stolen property|                none|  1439|\n",
      "|        non-criminal|complainant refus...|  1432|\n",
      "|           loitering|       arrest, cited|  1432|\n",
      "|forgery/counterfe...|      not prosecuted|  1421|\n",
      "|       larceny/theft|           unfounded|  1221|\n",
      "|         weapon laws|       arrest, cited|  1157|\n",
      "|      missing person|      arrest, booked|  1125|\n",
      "+--------------------+--------------------+------+\n",
      "\n"
     ]
    }
   ],
   "source": [
    "res = data.groupby('Category','Resolution').count().withColumnRenamed('Day of Week','Day')\n",
    "res.filter(col('count')>1000).sort(col(\"count\").desc(),col(\"Category\").desc()).show(100)"
   ]
  },
  {
   "cell_type": "markdown",
   "id": "2b517b20",
   "metadata": {},
   "source": [
    "It seems that the highest counts of crime resultions still remain none/not resolved. Theft non criminal and vehcle."
   ]
  },
  {
   "cell_type": "markdown",
   "id": "35b2d817",
   "metadata": {},
   "source": [
    "## Which are the categories with the most unresolved crimes"
   ]
  },
  {
   "cell_type": "code",
   "execution_count": 5,
   "id": "19feb8ac",
   "metadata": {
    "scrolled": false
   },
   "outputs": [
    {
     "name": "stdout",
     "output_type": "stream",
     "text": [
      "+--------------------+-------------------+\n",
      "|            Category|count of unresolved|\n",
      "+--------------------+-------------------+\n",
      "|       larceny/theft|             437927|\n",
      "|        non-criminal|             184375|\n",
      "|       vehicle theft|             115980|\n",
      "|             assault|             104543|\n",
      "|           vandalism|             101778|\n",
      "|      other offenses|              86815|\n",
      "|            burglary|              76653|\n",
      "|      suspicious occ|              70514|\n",
      "|             robbery|              43082|\n",
      "|               fraud|              32057|\n",
      "|      missing person|              21630|\n",
      "|forgery/counterfe...|              14449|\n",
      "|     secondary codes|              12836|\n",
      "|       drug/narcotic|              10256|\n",
      "|   recovered vehicle|               8113|\n",
      "|            trespass|               6287|\n",
      "|         weapon laws|               6070|\n",
      "|sex offenses, for...|               5575|\n",
      "|            warrants|               5482|\n",
      "|  disorderly conduct|               3458|\n",
      "|               arson|               3174|\n",
      "|        embezzlement|               2147|\n",
      "|          kidnapping|               1793|\n",
      "|         drunkenness|               1725|\n",
      "|     stolen property|               1439|\n",
      "|             suicide|                982|\n",
      "|        prostitution|                850|\n",
      "|          bad checks|                744|\n",
      "|           extortion|                577|\n",
      "|             bribery|                338|\n",
      "|driving under the...|                317|\n",
      "|         liquor laws|                313|\n",
      "|           loitering|                299|\n",
      "|            gambling|                114|\n",
      "|pornography/obsce...|                 33|\n",
      "|sex offenses, non...|                 27|\n",
      "|                trea|                  6|\n",
      "+--------------------+-------------------+\n",
      "\n"
     ]
    }
   ],
   "source": [
    "unres = data.filter(col('Resolution')=='none').groupby('Category','Resolution').count().withColumnRenamed('Day of Week','Day')\n",
    "\n",
    "unres = unres.select(col('Category'),col('count')).sort(col(\"count\").desc()).withColumnRenamed('count','count of unresolved')\n",
    "\n",
    "unres.show(1000)\n"
   ]
  },
  {
   "cell_type": "markdown",
   "id": "e6eab56e",
   "metadata": {},
   "source": [
    "Now we can clearly see the categories with the most unresolved crimes. Sex offenses and trea are the least unresolved whereas larceny theft are the most. Alarmingly, assault also has a high unresolved number."
   ]
  },
  {
   "cell_type": "markdown",
   "id": "747ad4b7",
   "metadata": {},
   "source": [
    "## Which are the categories with the most resolved crime"
   ]
  },
  {
   "cell_type": "code",
   "execution_count": 6,
   "id": "3dd55f72",
   "metadata": {},
   "outputs": [
    {
     "name": "stdout",
     "output_type": "stream",
     "text": [
      "+--------------------+-----------------+\n",
      "|            Category|count of resolved|\n",
      "+--------------------+-----------------+\n",
      "|      other offenses|           215059|\n",
      "|       drug/narcotic|           107565|\n",
      "|            warrants|            94339|\n",
      "|             assault|            62499|\n",
      "|        non-criminal|            52553|\n",
      "|       larceny/theft|            40048|\n",
      "|      missing person|            22638|\n",
      "|        prostitution|            15651|\n",
      "|         weapon laws|            14934|\n",
      "|            burglary|            14414|\n",
      "|           vandalism|            12940|\n",
      "|            trespass|            12907|\n",
      "|             robbery|            11385|\n",
      "|       vehicle theft|            10248|\n",
      "|     stolen property|            10011|\n",
      "|     secondary codes|             9542|\n",
      "|               fraud|             9291|\n",
      "|      suspicious occ|             8573|\n",
      "|forgery/counterfe...|             8546|\n",
      "|         drunkenness|             8035|\n",
      "|  disorderly conduct|             6474|\n",
      "|driving under the...|             5335|\n",
      "|sex offenses, for...|             3172|\n",
      "|         liquor laws|             2527|\n",
      "|          kidnapping|             2489|\n",
      "|           loitering|             2103|\n",
      "|        embezzlement|              837|\n",
      "|               arson|              701|\n",
      "|   recovered vehicle|              575|\n",
      "|             bribery|              458|\n",
      "|             suicide|              309|\n",
      "|            gambling|              229|\n",
      "|          bad checks|              180|\n",
      "|           extortion|              152|\n",
      "|pornography/obsce...|               24|\n",
      "|sex offenses, non...|               16|\n",
      "|                trea|                8|\n",
      "+--------------------+-----------------+\n",
      "\n"
     ]
    }
   ],
   "source": [
    "\n",
    "res = data.filter(col('Resolution')!='none')\n",
    "res=res.groupby('Category').count().withColumnRenamed('Day of Week','Day')\n",
    "res = res.select(col('Category'),col('count')).sort(col(\"count\").desc()).withColumnRenamed('count','count of resolved')\n",
    "res.show(1000)\n",
    "\n"
   ]
  },
  {
   "cell_type": "markdown",
   "id": "7cc035eb",
   "metadata": {},
   "source": [
    "Other offences, drugs and warrants seems to be the most resolved. Sex offenses and trea are the least but that can also be the case if they are low in number."
   ]
  },
  {
   "cell_type": "markdown",
   "id": "8e65c75b",
   "metadata": {},
   "source": [
    "## For each crime give resolution count and percentage "
   ]
  },
  {
   "cell_type": "code",
   "execution_count": 20,
   "id": "f8de2144",
   "metadata": {},
   "outputs": [
    {
     "name": "stdout",
     "output_type": "stream",
     "text": [
      "+--------------------+------+-----------------+-------------------+------------------------+\n",
      "|            Category| total|count of resolved|count of unresolved|percentage of unresolved|\n",
      "+--------------------+------+-----------------+-------------------+------------------------+\n",
      "|   recovered vehicle|  8688|              575|               8113|                   93.38|\n",
      "|       vehicle theft|126228|            10248|             115980|                   91.88|\n",
      "|       larceny/theft|477975|            40048|             437927|                   91.62|\n",
      "|      suspicious occ| 79087|             8573|              70514|                   89.16|\n",
      "|           vandalism|114718|            12940|             101778|                   88.72|\n",
      "|            burglary| 91067|            14414|              76653|                   84.17|\n",
      "|               arson|  3875|              701|               3174|                   81.91|\n",
      "|          bad checks|   924|              180|                744|                   80.52|\n",
      "|           extortion|   729|              152|                577|                   79.15|\n",
      "|             robbery| 54467|            11385|              43082|                    79.1|\n",
      "|        non-criminal|236928|            52553|             184375|                   77.82|\n",
      "|               fraud| 41348|             9291|              32057|                   77.53|\n",
      "|             suicide|  1291|              309|                982|                   76.07|\n",
      "|        embezzlement|  2984|              837|               2147|                   71.95|\n",
      "|sex offenses, for...|  8747|             3172|               5575|                   63.74|\n",
      "|forgery/counterfe...| 22995|             8546|              14449|                   62.84|\n",
      "|sex offenses, non...|    43|               16|                 27|                   62.79|\n",
      "|             assault|167042|            62499|             104543|                   62.58|\n",
      "|pornography/obsce...|    57|               24|                 33|                   57.89|\n",
      "|     secondary codes| 22378|             9542|              12836|                   57.36|\n",
      "|      missing person| 44268|            22638|              21630|                   48.86|\n",
      "|                trea|    14|                8|                  6|                   42.86|\n",
      "|             bribery|   796|              458|                338|                   42.46|\n",
      "|          kidnapping|  4282|             2489|               1793|                   41.87|\n",
      "|  disorderly conduct|  9932|             6474|               3458|                   34.82|\n",
      "|            gambling|   343|              229|                114|                   33.24|\n",
      "|            trespass| 19194|            12907|               6287|                   32.76|\n",
      "|         weapon laws| 21004|            14934|               6070|                    28.9|\n",
      "|      other offenses|301874|           215059|              86815|                   28.76|\n",
      "|         drunkenness|  9760|             8035|               1725|                   17.67|\n",
      "|     stolen property| 11450|            10011|               1439|                   12.57|\n",
      "|           loitering|  2402|             2103|                299|                   12.45|\n",
      "|         liquor laws|  2840|             2527|                313|                   11.02|\n",
      "|       drug/narcotic|117821|           107565|              10256|                     8.7|\n",
      "|driving under the...|  5652|             5335|                317|                    5.61|\n",
      "|            warrants| 99821|            94339|               5482|                    5.49|\n",
      "|        prostitution| 16501|            15651|                850|                    5.15|\n",
      "+--------------------+------+-----------------+-------------------+------------------------+\n",
      "\n"
     ]
    }
   ],
   "source": [
    "from pyspark.sql.functions import *\n",
    "\n",
    "joined= res.join(unres, res.Category == unres.Category,'inner').select(res.Category,'count of resolved','count of unresolved')     \n",
    "joined = joined.sort(col(\"count of unresolved\").desc())\n",
    "\n",
    "joined = joined.withColumn(\"total\", col(\"count of resolved\") + col(\"count of unresolved\"))\n",
    "joined = joined.withColumn(\"percentage of unresolved\", round((col(\"count of unresolved\")/col(\"total\"))*100,2))\n",
    "joined.select('Category','total','count of resolved','count of unresolved','percentage of unresolved').sort(col(\"percentage of unresolved\").desc()).show(1000)\n",
    "\n"
   ]
  },
  {
   "cell_type": "markdown",
   "id": "d60d5beb",
   "metadata": {},
   "source": [
    "Since it was difficult to understand the crimes which remained resolved and unresolved, above is the table which should make things clear. Here we can see the crimes that have remained the most unresolved compared to the total reporting. Theft/vehicle theft remained the highest. Warrents and prostituition the lowest. Alarmingly, robbery still has a high percentage of not being resolved."
   ]
  },
  {
   "cell_type": "markdown",
   "id": "9cedfc63",
   "metadata": {},
   "source": [
    "# Part 2: Further Analysis, Partition, Structure and Pipeline\n",
    "\n",
    "Here we will mostly focus on the crime categories and their description"
   ]
  },
  {
   "cell_type": "code",
   "execution_count": 21,
   "id": "23014896",
   "metadata": {},
   "outputs": [
    {
     "data": {
      "text/plain": [
       "DataFrame[Category: string, Description: string]"
      ]
     },
     "execution_count": 21,
     "metadata": {},
     "output_type": "execute_result"
    }
   ],
   "source": [
    "\n",
    "from pyspark.sql.functions import col, lower\n",
    "df = spark.read.format('csv')\\\n",
    "          .option('header','true')\\\n",
    "          .option('inferSchema', 'true')\\\n",
    "          .option('timestamp', 'true')\\\n",
    "          .load('./data/train_data.csv')\n",
    "\n",
    "data = df.select(lower(col('Category')),lower(col('Descript')))\\\n",
    "        .withColumnRenamed('lower(Category)','Category')\\\n",
    "        .withColumnRenamed('lower(Descript)', 'Description')\n",
    "data.cache()"
   ]
  },
  {
   "cell_type": "code",
   "execution_count": 23,
   "id": "7c0bffec",
   "metadata": {},
   "outputs": [
    {
     "name": "stdout",
     "output_type": "stream",
     "text": [
      "Unique Category: 37\n",
      "Top Crimes Category\n",
      "+--------------+----------+\n",
      "|      Category|totalValue|\n",
      "+--------------+----------+\n",
      "| larceny/theft|    477975|\n",
      "|other offenses|    301874|\n",
      "|  non-criminal|    236928|\n",
      "|       assault|    167042|\n",
      "| vehicle theft|    126228|\n",
      "| drug/narcotic|    117821|\n",
      "|     vandalism|    114718|\n",
      "|      warrants|     99821|\n",
      "|      burglary|     91067|\n",
      "|suspicious occ|     79087|\n",
      "+--------------+----------+\n",
      "only showing top 10 rows\n",
      "\n",
      "Unique Description: 847\n",
      "Top Crimes Description\n",
      "+--------------------+----------+\n",
      "|         Description|totalValue|\n",
      "+--------------------+----------+\n",
      "|grand theft from ...|    178776|\n",
      "|       lost property|     77947|\n",
      "|             battery|     66321|\n",
      "|   stolen automobile|     64616|\n",
      "|drivers license, ...|     62372|\n",
      "|aided case, menta...|     56203|\n",
      "|      warrant arrest|     55123|\n",
      "|suspicious occurr...|     52253|\n",
      "|petty theft from ...|     51912|\n",
      "|petty theft of pr...|     46049|\n",
      "+--------------------+----------+\n",
      "only showing top 10 rows\n",
      "\n"
     ]
    }
   ],
   "source": [
    "def values(df,var):\n",
    "    print(\"Unique\"+' '+var+''+':'+' '+str(df.select(var).distinct().count()))\n",
    "    print('Top Crimes'+' '+var)\n",
    "    df.groupBy(var).count().withColumnRenamed('count','totalValue')\\\n",
    "    .orderBy(col('totalValue').desc()).show(10)\n",
    "    \n",
    "    \n",
    "values(data, 'Category')\n",
    "\n",
    "values(data,'Description')"
   ]
  },
  {
   "cell_type": "code",
   "execution_count": 24,
   "id": "2e3e4f5d",
   "metadata": {},
   "outputs": [
    {
     "data": {
      "text/plain": [
       "37"
      ]
     },
     "execution_count": 24,
     "metadata": {},
     "output_type": "execute_result"
    }
   ],
   "source": [
    "data.select('Category').distinct().count()"
   ]
  },
  {
   "cell_type": "markdown",
   "id": "cd397a87",
   "metadata": {},
   "source": [
    "Splitting the data into train and test by 70%/30% ratio."
   ]
  },
  {
   "cell_type": "code",
   "execution_count": 28,
   "id": "5a841754",
   "metadata": {},
   "outputs": [
    {
     "name": "stdout",
     "output_type": "stream",
     "text": [
      "Training data Count: 1489572\n",
      "Testing data Count: 639953\n"
     ]
    }
   ],
   "source": [
    "training, testing = data.randomSplit([0.7,0.3], seed=60)\n",
    "#trainingSet.cache()\n",
    "print(\"Training data Count:\", training.count())\n",
    "print(\"Testing data Count:\", testing.count())"
   ]
  },
  {
   "cell_type": "code",
   "execution_count": 29,
   "id": "8b0badb1",
   "metadata": {},
   "outputs": [],
   "source": [
    "from pyspark.ml.feature import RegexTokenizer, StopWordsRemover, CountVectorizer, OneHotEncoder, StringIndexer, VectorAssembler, HashingTF, IDF, Word2Vec\n",
    "from pyspark.ml import Pipeline\n",
    "from pyspark.ml.classification import LogisticRegression, NaiveBayes \n",
    "\n",
    "# Now we move towards building up our pipeline from the descriptions. First we use a regex tokenizer for word character.\n",
    "# Taking descriptions as input and tokens as output.\n",
    "regex_tokenizer = RegexTokenizer(pattern='\\\\W').setInputCol(\"Description\").setOutputCol(\"tokens\")\n",
    "\n",
    "\n",
    "extra_stopwords = ['http','amp','rt','t','c','the']\n",
    "# The output tokens are then taken as input so that stopwards given above are filtered out.\n",
    "stopwords_remover = StopWordsRemover().setInputCol('tokens').setOutputCol('filtered_words').setStopWords(extra_stopwords)\n",
    "                    \n",
    "# using a bag of words model, we now use the filtered words input to produce a sparse representation of documents.\n",
    "count_vectors = CountVectorizer(vocabSize=10000, minDF=5).setInputCol(\"filtered_words\").setOutputCol(\"features\")\n",
    "\n",
    "# This is another form of representation in terms of vectors of the filtered words using tf-idf framework\n",
    "hashingTf = HashingTF(numFeatures=10000).setInputCol(\"filtered_words\").setOutputCol(\"raw_features\")    \n",
    "idf = IDF(minDocFreq=5).setInputCol(\"raw_features\").setOutputCol(\"features\")\n",
    "\n",
    "\n",
    "# Adding the category labels to our pipeline\n",
    "label_string_idx = StringIndexer().setInputCol(\"Category\").setOutputCol(\"label\")\n",
    "\n",
    "#logistic Regression\n",
    "lr = LogisticRegression(maxIter=20, regParam=0.3, elasticNetParam=0)\n",
    "\n",
    "#Naive Bayes\n",
    "nb = NaiveBayes(smoothing=1)\n",
    "\n",
    "# def metrics_ev(labels, metrics):\n",
    "#     '''\n",
    "#     List of all performance metrics\n",
    "#     '''\n",
    "#     # Confusion matrix\n",
    "#     print(\"---------Confusion matrix-----------------\")\n",
    "#     print(metrics.confusionMatrix)\n",
    "#     print(' ')    \n",
    "#     # Overall statistics\n",
    "#     print('----------Overall statistics-----------')\n",
    "#     print(\"Precision = %s\" %  metrics.precision())\n",
    "#     print(\"Recall = %s\" %  metrics.recall())\n",
    "#     print(\"F1 Score = %s\" % metrics.fMeasure())\n",
    "#     print(' ')\n",
    "#     # Statistics by class\n",
    "#     print('----------Statistics by class----------')\n",
    "#     for label in sorted(labels):\n",
    "#        print(\"Class %s precision = %s\" % (label, metrics.precision(label)))\n",
    "#        print(\"Class %s recall = %s\" % (label, metrics.recall(label)))\n",
    "#        print(\"Class %s F1 Measure = %s\" % (label, metrics.fMeasure(label, beta=1.0)))\n",
    "#     print(' ')\n",
    "#     # Weighted stats\n",
    "#     print('----------Weighted stats----------------')\n",
    "#     print(\"Weighted recall = %s\" % metrics.weightedRecall)\n",
    "#     print(\"Weighted precision = %s\" % metrics.weightedPrecision)\n",
    "#     print(\"Weighted F(1) Score = %s\" % metrics.weightedFMeasure())\n",
    "#     print(\"Weighted F(0.5) Score = %s\" % metrics.weightedFMeasure(beta=0.5))\n",
    "#     print(\"Weighted false positive rate = %s\" % metrics.weightedFalsePositiveRate)"
   ]
  },
  {
   "cell_type": "markdown",
   "id": "61e54891",
   "metadata": {},
   "source": [
    "Once all the groundwork has been laid out, we move towards pipeline generation and model building. Firstly we use logistic regression model with count vector representation of features and fit the training data. Testing data is then used for prediction"
   ]
  },
  {
   "cell_type": "code",
   "execution_count": 31,
   "id": "46627d46",
   "metadata": {},
   "outputs": [],
   "source": [
    "pipeline_cv_lr = Pipeline().setStages([regex_tokenizer,stopwords_remover,count_vectors,label_string_idx, lr])\n",
    "model_cv_lr = pipeline_cv_lr.fit(training)\n",
    "predictions_cv_lr = model_cv_lr.transform(testing)"
   ]
  },
  {
   "cell_type": "markdown",
   "id": "555a4c08",
   "metadata": {},
   "source": [
    "Follwing are some of the predictions:"
   ]
  },
  {
   "cell_type": "code",
   "execution_count": 32,
   "id": "aaadb4ce",
   "metadata": {},
   "outputs": [
    {
     "name": "stdout",
     "output_type": "stream",
     "text": [
      "+------------------------------+-------------+------------------------------+-----+----------+\n",
      "|                   Description|     Category|                   probability|label|prediction|\n",
      "+------------------------------+-------------+------------------------------+-----+----------+\n",
      "|theft, bicycle, <$50, no se...|larceny/theft|[0.8760164820662095,0.02102...|  0.0|       0.0|\n",
      "|theft, bicycle, <$50, no se...|larceny/theft|[0.8760164820662095,0.02102...|  0.0|       0.0|\n",
      "|theft, bicycle, <$50, no se...|larceny/theft|[0.8760164820662095,0.02102...|  0.0|       0.0|\n",
      "|theft, bicycle, <$50, no se...|larceny/theft|[0.8760164820662095,0.02102...|  0.0|       0.0|\n",
      "|theft, bicycle, <$50, no se...|larceny/theft|[0.8760164820662095,0.02102...|  0.0|       0.0|\n",
      "|theft, bicycle, <$50, no se...|larceny/theft|[0.8760164820662095,0.02102...|  0.0|       0.0|\n",
      "|theft, bicycle, <$50, no se...|larceny/theft|[0.8760164820662095,0.02102...|  0.0|       0.0|\n",
      "|theft, bicycle, <$50, no se...|larceny/theft|[0.8760164820662095,0.02102...|  0.0|       0.0|\n",
      "|theft, bicycle, <$50, no se...|larceny/theft|[0.8760164820662095,0.02102...|  0.0|       0.0|\n",
      "|theft, bicycle, <$50, no se...|larceny/theft|[0.8760164820662095,0.02102...|  0.0|       0.0|\n",
      "+------------------------------+-------------+------------------------------+-----+----------+\n",
      "only showing top 10 rows\n",
      "\n"
     ]
    }
   ],
   "source": [
    "predictions_cv_lr.select('Description','Category',\"probability\",\"label\",\"prediction\").orderBy(\"probability\", ascending=False)\\\n",
    "                                        .show(n=10, truncate=30)"
   ]
  },
  {
   "cell_type": "code",
   "execution_count": 34,
   "id": "ef938193",
   "metadata": {},
   "outputs": [
    {
     "name": "stdout",
     "output_type": "stream",
     "text": [
      "0.9779452699308976\n"
     ]
    }
   ],
   "source": [
    "from pyspark.ml.evaluation import MulticlassClassificationEvaluator \n",
    "evaluator_cv_lr = MulticlassClassificationEvaluator().setPredictionCol(\"prediction\").evaluate(predictions_cv_lr)\n",
    "print(evaluator_cv_lr)"
   ]
  },
  {
   "cell_type": "markdown",
   "id": "dedc0a18",
   "metadata": {},
   "source": [
    "Now we do the same using the naive Bayes model."
   ]
  },
  {
   "cell_type": "code",
   "execution_count": 35,
   "id": "43427b7e",
   "metadata": {},
   "outputs": [],
   "source": [
    "pipeline_cv_nb = Pipeline().setStages([regex_tokenizer,stopwords_remover,count_vectors,label_string_idx, nb])\n",
    "model_cv_nb = pipeline_cv_nb.fit(training)\n",
    "predictions_cv_nb = model_cv_nb.transform(testing)"
   ]
  },
  {
   "cell_type": "code",
   "execution_count": 36,
   "id": "65cf10ea",
   "metadata": {},
   "outputs": [
    {
     "name": "stdout",
     "output_type": "stream",
     "text": [
      "0.9943617840097905\n"
     ]
    }
   ],
   "source": [
    "evaluator_cv_nb = MulticlassClassificationEvaluator().setPredictionCol(\"prediction\").evaluate(predictions_cv_nb)\n",
    "print(evaluator_cv_nb)"
   ]
  },
  {
   "cell_type": "markdown",
   "id": "a5d46e62",
   "metadata": {},
   "source": [
    "Now we again use the logistic regression model but this time using tf-idf framework representation"
   ]
  },
  {
   "cell_type": "code",
   "execution_count": 37,
   "id": "7c9d1708",
   "metadata": {},
   "outputs": [],
   "source": [
    "pipeline_idf_lr = Pipeline().setStages([regex_tokenizer,stopwords_remover,hashingTf, idf, label_string_idx, lr])\n",
    "model_idf_lr = pipeline_idf_lr.fit(training)\n",
    "predictions_idf_lr = model_idf_lr.transform(testing)"
   ]
  },
  {
   "cell_type": "markdown",
   "id": "ad006859",
   "metadata": {},
   "source": [
    "Following are some of its predictions"
   ]
  },
  {
   "cell_type": "code",
   "execution_count": 38,
   "id": "220f6c2e",
   "metadata": {},
   "outputs": [
    {
     "name": "stdout",
     "output_type": "stream",
     "text": [
      "+------------------------------+-------------+------------------------------+-----+----------+\n",
      "|                   Description|     Category|                   probability|label|prediction|\n",
      "+------------------------------+-------------+------------------------------+-----+----------+\n",
      "|theft, bicycle, <$50, no se...|larceny/theft|[0.8836390132320922,0.01982...|  0.0|       0.0|\n",
      "|theft, bicycle, <$50, no se...|larceny/theft|[0.8836390132320922,0.01982...|  0.0|       0.0|\n",
      "|theft, bicycle, <$50, no se...|larceny/theft|[0.8836390132320922,0.01982...|  0.0|       0.0|\n",
      "|theft, bicycle, <$50, no se...|larceny/theft|[0.8836390132320922,0.01982...|  0.0|       0.0|\n",
      "|theft, bicycle, <$50, no se...|larceny/theft|[0.8836390132320922,0.01982...|  0.0|       0.0|\n",
      "|theft, bicycle, <$50, no se...|larceny/theft|[0.8836390132320922,0.01982...|  0.0|       0.0|\n",
      "|theft, bicycle, <$50, no se...|larceny/theft|[0.8836390132320922,0.01982...|  0.0|       0.0|\n",
      "|theft, bicycle, <$50, no se...|larceny/theft|[0.8836390132320922,0.01982...|  0.0|       0.0|\n",
      "|theft, bicycle, <$50, no se...|larceny/theft|[0.8836390132320922,0.01982...|  0.0|       0.0|\n",
      "|theft, bicycle, <$50, no se...|larceny/theft|[0.8836390132320922,0.01982...|  0.0|       0.0|\n",
      "+------------------------------+-------------+------------------------------+-----+----------+\n",
      "only showing top 10 rows\n",
      "\n"
     ]
    }
   ],
   "source": [
    "predictions_idf_lr.select('Description','Category',\"probability\",\"label\",\"prediction\").orderBy(\"probability\", ascending=False)\\\n",
    "                                        .show(n=10, truncate=30)"
   ]
  },
  {
   "cell_type": "code",
   "execution_count": 39,
   "id": "b94e066f",
   "metadata": {},
   "outputs": [
    {
     "name": "stdout",
     "output_type": "stream",
     "text": [
      "0.9772466482808572\n"
     ]
    }
   ],
   "source": [
    "evaluator_idf_lr = MulticlassClassificationEvaluator().setPredictionCol(\"prediction\").evaluate(predictions_idf_lr)\n",
    "print(evaluator_idf_lr)"
   ]
  },
  {
   "cell_type": "markdown",
   "id": "5a23d5a9",
   "metadata": {},
   "source": [
    "Again the same using tf-idf with naive bayes model"
   ]
  },
  {
   "cell_type": "code",
   "execution_count": 40,
   "id": "4bc15cd8",
   "metadata": {},
   "outputs": [],
   "source": [
    "pipeline_idf_nb = Pipeline().setStages([regex_tokenizer,stopwords_remover,hashingTf, idf, label_string_idx, nb])\n",
    "model_idf_nb = pipeline_idf_nb.fit(training)\n",
    "predictions_idf_nb = model_idf_nb.transform(testing)"
   ]
  },
  {
   "cell_type": "code",
   "execution_count": 41,
   "id": "2c08e1f0",
   "metadata": {},
   "outputs": [
    {
     "name": "stdout",
     "output_type": "stream",
     "text": [
      "0.9949479475778635\n"
     ]
    }
   ],
   "source": [
    "evaluator_idf_nb = MulticlassClassificationEvaluator().setPredictionCol(\"prediction\").evaluate(predictions_idf_nb)\n",
    "print(evaluator_idf_nb)"
   ]
  },
  {
   "cell_type": "markdown",
   "id": "525536c6",
   "metadata": {},
   "source": [
    "# Conclusion\n",
    "\n",
    "We can therefore conclude with our model training and evaluation.\n",
    "\n",
    "### When we used *count vector* representation we got:\n",
    "\n",
    "Logistic Regression: 97.79% accuracy.\n",
    "\n",
    "Naive Bayes: 99.43% accuracy.\n",
    "\n",
    "\n",
    "### When we used *tf-idf* representation we got:\n",
    "\n",
    "\n",
    "Logistic Regression: 97.72% accuracy.\n",
    "\n",
    "Naive Bayes: 99.49% accuracy.\n",
    "\n",
    "\n",
    "We can conclude that Naive Bayes using tf-idf representation gives us the best accuracy for this type of dataset."
   ]
  },
  {
   "cell_type": "code",
   "execution_count": 10,
   "id": "7f805527",
   "metadata": {},
   "outputs": [],
   "source": [
    "spark.stop()"
   ]
  },
  {
   "cell_type": "code",
   "execution_count": null,
   "id": "882bcfaa",
   "metadata": {},
   "outputs": [],
   "source": []
  }
 ],
 "metadata": {
  "kernelspec": {
   "display_name": "Python 3 (ipykernel)",
   "language": "python",
   "name": "python3"
  },
  "language_info": {
   "codemirror_mode": {
    "name": "ipython",
    "version": 3
   },
   "file_extension": ".py",
   "mimetype": "text/x-python",
   "name": "python",
   "nbconvert_exporter": "python",
   "pygments_lexer": "ipython3",
   "version": "3.11.3"
  }
 },
 "nbformat": 4,
 "nbformat_minor": 5
}
