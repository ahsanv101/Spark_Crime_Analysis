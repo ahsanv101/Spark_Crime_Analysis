{
 "cells": [
  {
   "cell_type": "code",
   "execution_count": 1,
   "id": "896ca454",
   "metadata": {},
   "outputs": [],
   "source": [
    "import pyspark\n",
    "spark = pyspark.sql.SparkSession.builder.appName(\"clipper-pyspark\").getOrCreate()\n",
    "\n",
    "sc = spark.sparkContext\n",
    "import seaborn as sns\n",
    "import matplotlib.pyplot as plt\n",
    "import numpy as np\n",
    "%matplotlib inline\n",
    "np.random.seed(60)"
   ]
  },
  {
   "cell_type": "code",
   "execution_count": 17,
   "id": "315c70ab",
   "metadata": {},
   "outputs": [
    {
     "name": "stdout",
     "output_type": "stream",
     "text": [
      "Dataframe Structure\n",
      "----------------------------------\n",
      "root\n",
      " |-- Category: string (nullable = true)\n",
      " |-- Description: string (nullable = true)\n",
      "\n",
      "None\n",
      " \n",
      "Dataframe preview\n",
      "+-------------+--------------------+\n",
      "|     Category|         Description|\n",
      "+-------------+--------------------+\n",
      "|      robbery|robbery, bodily f...|\n",
      "|vehicle theft|   stolen automobile|\n",
      "|vehicle theft|   stolen automobile|\n",
      "|        arson|               arson|\n",
      "|      assault|             battery|\n",
      "+-------------+--------------------+\n",
      "only showing top 5 rows\n",
      "\n",
      "None\n",
      " \n",
      "----------------------------------\n",
      "Total number of rows 2129525\n"
     ]
    }
   ],
   "source": []
  },
  {
   "cell_type": "code",
   "execution_count": 22,
   "id": "378c4eb5",
   "metadata": {},
   "outputs": [
    {
     "name": "stdout",
     "output_type": "stream",
     "text": [
      "Dataframe Structure\n",
      "----------------------------------\n",
      "root\n",
      " |-- Category: string (nullable = true)\n",
      " |-- Description: string (nullable = true)\n",
      " |-- Date: string (nullable = true)\n",
      " |-- Day of Week: string (nullable = true)\n",
      " |-- Resolution: string (nullable = true)\n",
      "\n",
      "None\n",
      " \n",
      "Dataframe preview\n",
      "+-------------+--------------------+----------+-----------+----------+\n",
      "|     Category|         Description|      Date|Day of Week|Resolution|\n",
      "+-------------+--------------------+----------+-----------+----------+\n",
      "|      robbery|robbery, bodily f...|11/22/2004|     monday|      none|\n",
      "|vehicle theft|   stolen automobile|10/18/2005|    tuesday|      none|\n",
      "|vehicle theft|   stolen automobile|02/15/2004|     sunday|      none|\n",
      "|        arson|               arson|02/18/2011|     friday|      none|\n",
      "|      assault|             battery|11/21/2010|     sunday|      none|\n",
      "+-------------+--------------------+----------+-----------+----------+\n",
      "only showing top 5 rows\n",
      "\n",
      "None\n",
      " \n",
      "----------------------------------\n",
      "Total number of rows 2129525\n"
     ]
    }
   ],
   "source": [
    "#Read the data into spark datafrome\n",
    "from pyspark.sql.functions import col, lower\n",
    "df = spark.read.format('csv')\\\n",
    "          .option('header','true')\\\n",
    "          .option('inferSchema', 'true')\\\n",
    "          .option('timestamp', 'true')\\\n",
    "          .load('./data/train_data.csv')\n",
    "\n",
    "data = df.select(lower(col('Category')),lower(col('Descript')),col('Date'),lower(col('DayOfWeek')),lower(col('Resolution')))\\\n",
    "        .withColumnRenamed('lower(Category)','Category')\\\n",
    "        .withColumnRenamed('lower(Descript)', 'Description')\\\n",
    "        .withColumnRenamed('lower(DayOfWeek)', 'Day of Week')\\\n",
    "        .withColumnRenamed('lower(Resolution)', 'Resolution')\n",
    "data.cache()\n",
    "print('Dataframe Structure')\n",
    "print('----------------------------------')\n",
    "print(data.printSchema())\n",
    "print(' ')\n",
    "print('Dataframe preview')\n",
    "print(data.show(5))\n",
    "print(' ')\n",
    "print('----------------------------------')\n",
    "print('Total number of rows', df.count())"
   ]
  },
  {
   "cell_type": "code",
   "execution_count": null,
   "id": "33a83358",
   "metadata": {},
   "outputs": [],
   "source": [
    "# TOP MOST Categories of crime"
   ]
  },
  {
   "cell_type": "code",
   "execution_count": 23,
   "id": "d561f321",
   "metadata": {},
   "outputs": [
    {
     "name": "stdout",
     "output_type": "stream",
     "text": [
      "+--------------------+------+\n",
      "|            Category| count|\n",
      "+--------------------+------+\n",
      "|       larceny/theft|477975|\n",
      "|      other offenses|301874|\n",
      "|        non-criminal|236928|\n",
      "|             assault|167042|\n",
      "|       vehicle theft|126228|\n",
      "|       drug/narcotic|117821|\n",
      "|           vandalism|114718|\n",
      "|            warrants| 99821|\n",
      "|            burglary| 91067|\n",
      "|      suspicious occ| 79087|\n",
      "|             robbery| 54467|\n",
      "|      missing person| 44268|\n",
      "|               fraud| 41348|\n",
      "|forgery/counterfe...| 22995|\n",
      "|     secondary codes| 22378|\n",
      "|         weapon laws| 21004|\n",
      "|            trespass| 19194|\n",
      "|        prostitution| 16501|\n",
      "|     stolen property| 11450|\n",
      "|  disorderly conduct|  9932|\n",
      "+--------------------+------+\n",
      "only showing top 20 rows\n",
      "\n"
     ]
    }
   ],
   "source": [
    "top_crime = data.groupby('Category').count()\n",
    "top_crime.sort(col(\"count\").desc()).show()"
   ]
  },
  {
   "cell_type": "code",
   "execution_count": null,
   "id": "01e5cd34",
   "metadata": {},
   "outputs": [],
   "source": [
    "# Which days of the week appear the most crimes"
   ]
  },
  {
   "cell_type": "code",
   "execution_count": 24,
   "id": "d82428da",
   "metadata": {
    "scrolled": true
   },
   "outputs": [
    {
     "name": "stdout",
     "output_type": "stream",
     "text": [
      "+---------+------+\n",
      "|      Day| count|\n",
      "+---------+------+\n",
      "|   friday|324151|\n",
      "|wednesday|311601|\n",
      "| saturday|308907|\n",
      "| thursday|303893|\n",
      "|  tuesday|302455|\n",
      "|   monday|294530|\n",
      "|   sunday|283988|\n",
      "+---------+------+\n",
      "\n"
     ]
    }
   ],
   "source": [
    "topday = data.groupby('Day of Week').count().withColumnRenamed('Day of Week','Day')\n",
    "topday.sort(col(\"count\").desc()).show()"
   ]
  },
  {
   "cell_type": "code",
   "execution_count": null,
   "id": "86add3a0",
   "metadata": {},
   "outputs": [],
   "source": [
    "# Check resultions for each of the crimes from most to least"
   ]
  },
  {
   "cell_type": "code",
   "execution_count": 31,
   "id": "4d51478d",
   "metadata": {},
   "outputs": [
    {
     "name": "stdout",
     "output_type": "stream",
     "text": [
      "+--------------------+--------------------+------+\n",
      "|            Category|          Resolution| count|\n",
      "+--------------------+--------------------+------+\n",
      "|         weapon laws|      arrest, booked| 13334|\n",
      "|         weapon laws|                none|  6070|\n",
      "|         weapon laws|       arrest, cited|  1157|\n",
      "|            warrants|      arrest, booked| 93092|\n",
      "|            warrants|                none|  5482|\n",
      "|       vehicle theft|                none|115980|\n",
      "|       vehicle theft|      arrest, booked|  5064|\n",
      "|       vehicle theft|           unfounded|  4789|\n",
      "|           vandalism|                none|101778|\n",
      "|           vandalism|      arrest, booked|  8734|\n",
      "|           vandalism|       arrest, cited|  2967|\n",
      "|            trespass|      arrest, booked|  7598|\n",
      "|            trespass|                none|  6287|\n",
      "|            trespass|       arrest, cited|  5053|\n",
      "|      suspicious occ|                none| 70514|\n",
      "|      suspicious occ|      arrest, booked|  2765|\n",
      "|      suspicious occ|           unfounded|  2507|\n",
      "|     stolen property|      arrest, booked|  9693|\n",
      "|     stolen property|                none|  1439|\n",
      "|sex offenses, for...|                none|  5575|\n",
      "|sex offenses, for...|      arrest, booked|  1648|\n",
      "|     secondary codes|                none| 12836|\n",
      "|     secondary codes|      arrest, booked|  7811|\n",
      "|             robbery|                none| 43082|\n",
      "|             robbery|      arrest, booked|  9598|\n",
      "|   recovered vehicle|                none|  8113|\n",
      "|        prostitution|       arrest, cited|  9667|\n",
      "|        prostitution|      arrest, booked|  5780|\n",
      "|      other offenses|      arrest, booked|115427|\n",
      "|      other offenses|       arrest, cited| 94817|\n",
      "|      other offenses|                none| 86815|\n",
      "|      other offenses|           unfounded|  1715|\n",
      "|        non-criminal|                none|184375|\n",
      "|        non-criminal|   psychopathic case| 27027|\n",
      "|        non-criminal|      arrest, booked|  9918|\n",
      "|        non-criminal|           unfounded|  7398|\n",
      "|        non-criminal|       arrest, cited|  3220|\n",
      "|        non-criminal|complainant refus...|  1432|\n",
      "|      missing person|                none| 21630|\n",
      "|      missing person|             located| 19615|\n",
      "|      missing person|      arrest, booked|  1125|\n",
      "|           loitering|       arrest, cited|  1432|\n",
      "|         liquor laws|      arrest, booked|  1839|\n",
      "|       larceny/theft|                none|437927|\n",
      "|       larceny/theft|      arrest, booked| 25136|\n",
      "|       larceny/theft|       arrest, cited| 10463|\n",
      "|       larceny/theft|      not prosecuted|  1600|\n",
      "|       larceny/theft|           unfounded|  1221|\n",
      "|          kidnapping|      arrest, booked|  2165|\n",
      "|          kidnapping|                none|  1793|\n",
      "|               fraud|                none| 32057|\n",
      "|               fraud|      arrest, booked|  4940|\n",
      "|               fraud|      not prosecuted|  1940|\n",
      "|forgery/counterfe...|                none| 14449|\n",
      "|forgery/counterfe...|      arrest, booked|  4339|\n",
      "|forgery/counterfe...|prosecuted by out...|  1866|\n",
      "|forgery/counterfe...|      not prosecuted|  1421|\n",
      "|        embezzlement|                none|  2147|\n",
      "|         drunkenness|      arrest, booked|  7471|\n",
      "|         drunkenness|                none|  1725|\n",
      "|       drug/narcotic|      arrest, booked| 97926|\n",
      "|       drug/narcotic|                none| 10256|\n",
      "|       drug/narcotic|       arrest, cited|  9046|\n",
      "|driving under the...|      arrest, booked|  4941|\n",
      "|  disorderly conduct|      arrest, booked|  3702|\n",
      "|  disorderly conduct|                none|  3458|\n",
      "|  disorderly conduct|       arrest, cited|  2627|\n",
      "|            burglary|                none| 76653|\n",
      "|            burglary|      arrest, booked| 12765|\n",
      "|             assault|                none|104543|\n",
      "|             assault|      arrest, booked| 49246|\n",
      "|             assault|       arrest, cited|  7027|\n",
      "|             assault|district attorney...|  2051|\n",
      "|             assault|complainant refus...|  1797|\n",
      "|               arson|                none|  3174|\n",
      "+--------------------+--------------------+------+\n",
      "\n"
     ]
    }
   ],
   "source": [
    "res = data.groupby('Category','Resolution').count().withColumnRenamed('Day of Week','Day')\n",
    "res.filter(col('count')>1000).sort(col(\"Category\").desc(),col(\"count\").desc()).show(100)"
   ]
  },
  {
   "cell_type": "code",
   "execution_count": null,
   "id": "dcce2939",
   "metadata": {},
   "outputs": [],
   "source": []
  },
  {
   "cell_type": "code",
   "execution_count": 53,
   "id": "19feb8ac",
   "metadata": {
    "scrolled": false
   },
   "outputs": [
    {
     "name": "stdout",
     "output_type": "stream",
     "text": [
      "+--------------------+-------------------+\n",
      "|            Category|count of unresolved|\n",
      "+--------------------+-------------------+\n",
      "|       larceny/theft|             437927|\n",
      "|        non-criminal|             184375|\n",
      "|       vehicle theft|             115980|\n",
      "|             assault|             104543|\n",
      "|           vandalism|             101778|\n",
      "|      other offenses|              86815|\n",
      "|            burglary|              76653|\n",
      "|      suspicious occ|              70514|\n",
      "|             robbery|              43082|\n",
      "|               fraud|              32057|\n",
      "|      missing person|              21630|\n",
      "|forgery/counterfe...|              14449|\n",
      "|     secondary codes|              12836|\n",
      "|       drug/narcotic|              10256|\n",
      "|   recovered vehicle|               8113|\n",
      "|            trespass|               6287|\n",
      "|         weapon laws|               6070|\n",
      "|sex offenses, for...|               5575|\n",
      "|            warrants|               5482|\n",
      "|  disorderly conduct|               3458|\n",
      "|               arson|               3174|\n",
      "|        embezzlement|               2147|\n",
      "|          kidnapping|               1793|\n",
      "|         drunkenness|               1725|\n",
      "|     stolen property|               1439|\n",
      "|             suicide|                982|\n",
      "|        prostitution|                850|\n",
      "|          bad checks|                744|\n",
      "|           extortion|                577|\n",
      "|             bribery|                338|\n",
      "|driving under the...|                317|\n",
      "|         liquor laws|                313|\n",
      "|           loitering|                299|\n",
      "|            gambling|                114|\n",
      "|pornography/obsce...|                 33|\n",
      "|sex offenses, non...|                 27|\n",
      "|                trea|                  6|\n",
      "+--------------------+-------------------+\n",
      "\n",
      "+--------------------+-----------------+\n",
      "|            Category|count of resolved|\n",
      "+--------------------+-----------------+\n",
      "|      other offenses|           215059|\n",
      "|       drug/narcotic|           107565|\n",
      "|            warrants|            94339|\n",
      "|             assault|            62499|\n",
      "|        non-criminal|            52553|\n",
      "|       larceny/theft|            40048|\n",
      "|      missing person|            22638|\n",
      "|        prostitution|            15651|\n",
      "|         weapon laws|            14934|\n",
      "|            burglary|            14414|\n",
      "|           vandalism|            12940|\n",
      "|            trespass|            12907|\n",
      "|             robbery|            11385|\n",
      "|       vehicle theft|            10248|\n",
      "|     stolen property|            10011|\n",
      "|     secondary codes|             9542|\n",
      "|               fraud|             9291|\n",
      "|      suspicious occ|             8573|\n",
      "|forgery/counterfe...|             8546|\n",
      "|         drunkenness|             8035|\n",
      "|  disorderly conduct|             6474|\n",
      "|driving under the...|             5335|\n",
      "|sex offenses, for...|             3172|\n",
      "|         liquor laws|             2527|\n",
      "|          kidnapping|             2489|\n",
      "|           loitering|             2103|\n",
      "|        embezzlement|              837|\n",
      "|               arson|              701|\n",
      "|   recovered vehicle|              575|\n",
      "|             bribery|              458|\n",
      "|             suicide|              309|\n",
      "|            gambling|              229|\n",
      "|          bad checks|              180|\n",
      "|           extortion|              152|\n",
      "|pornography/obsce...|               24|\n",
      "|sex offenses, non...|               16|\n",
      "|                trea|                8|\n",
      "+--------------------+-----------------+\n",
      "\n",
      "+--------------------+-----------------+-------------------+\n",
      "|            Category|count of resolved|count of unresolved|\n",
      "+--------------------+-----------------+-------------------+\n",
      "|       larceny/theft|            40048|             437927|\n",
      "|        non-criminal|            52553|             184375|\n",
      "|       vehicle theft|            10248|             115980|\n",
      "|             assault|            62499|             104543|\n",
      "|           vandalism|            12940|             101778|\n",
      "|      other offenses|           215059|              86815|\n",
      "|            burglary|            14414|              76653|\n",
      "|      suspicious occ|             8573|              70514|\n",
      "|             robbery|            11385|              43082|\n",
      "|               fraud|             9291|              32057|\n",
      "|      missing person|            22638|              21630|\n",
      "|forgery/counterfe...|             8546|              14449|\n",
      "|     secondary codes|             9542|              12836|\n",
      "|       drug/narcotic|           107565|              10256|\n",
      "|   recovered vehicle|              575|               8113|\n",
      "|            trespass|            12907|               6287|\n",
      "|         weapon laws|            14934|               6070|\n",
      "|sex offenses, for...|             3172|               5575|\n",
      "|            warrants|            94339|               5482|\n",
      "|  disorderly conduct|             6474|               3458|\n",
      "|               arson|              701|               3174|\n",
      "|        embezzlement|              837|               2147|\n",
      "|          kidnapping|             2489|               1793|\n",
      "|         drunkenness|             8035|               1725|\n",
      "|     stolen property|            10011|               1439|\n",
      "|             suicide|              309|                982|\n",
      "|        prostitution|            15651|                850|\n",
      "|          bad checks|              180|                744|\n",
      "|           extortion|              152|                577|\n",
      "|             bribery|              458|                338|\n",
      "|driving under the...|             5335|                317|\n",
      "|         liquor laws|             2527|                313|\n",
      "|           loitering|             2103|                299|\n",
      "|            gambling|              229|                114|\n",
      "|pornography/obsce...|               24|                 33|\n",
      "|sex offenses, non...|               16|                 27|\n",
      "|                trea|                8|                  6|\n",
      "+--------------------+-----------------+-------------------+\n",
      "\n"
     ]
    }
   ],
   "source": [
    "unres = data.filter(col('Resolution')=='none').groupby('Category','Resolution').count().withColumnRenamed('Day of Week','Day')\n",
    "\n",
    "unres = unres.select(col('Category'),col('count')).sort(col(\"count\").desc()).withColumnRenamed('count','count of unresolved')\n",
    "\n",
    "unres.show(1000)\n",
    "\n",
    "res = data.filter(col('Resolution')!='none')\n",
    "res=res.groupby('Category').count().withColumnRenamed('Day of Week','Day')\n",
    "res = res.select(col('Category'),col('count')).sort(col(\"count\").desc()).withColumnRenamed('count','count of resolved')\n",
    "res.show(1000)\n",
    "\n",
    "\n",
    "joined= res.join(unres, res.Category == unres.Category,'inner').select(res.Category, 'count of resolved','count of unresolved')     \n",
    "joined = joined.sort(col(\"count of unresolved\").desc())\n",
    "\n",
    "joined.show(1000)"
   ]
  },
  {
   "cell_type": "code",
   "execution_count": null,
   "id": "f7c758d2",
   "metadata": {},
   "outputs": [],
   "source": []
  },
  {
   "cell_type": "code",
   "execution_count": null,
   "id": "23014896",
   "metadata": {},
   "outputs": [],
   "source": [
    "#Read the data into spark datafrome\n",
    "from pyspark.sql.functions import col, lower\n",
    "df = spark.read.format('csv')\\\n",
    "          .option('header','true')\\\n",
    "          .option('inferSchema', 'true')\\\n",
    "          .option('timestamp', 'true')\\\n",
    "          .load('./data/train_data.csv')\n",
    "\n",
    "data = df.select(lower(col('Category')),lower(col('Descript')))\\\n",
    "        .withColumnRenamed('lower(Category)','Category')\\\n",
    "        .withColumnRenamed('lower(Descript)', 'Description')\n",
    "data.cache()\n",
    "print('Dataframe Structure')\n",
    "print('----------------------------------')\n",
    "print(data.printSchema())\n",
    "print(' ')\n",
    "print('Dataframe preview')\n",
    "print(data.show(5))\n",
    "print(' ')\n",
    "print('----------------------------------')\n",
    "print('Total number of rows', df.count())"
   ]
  },
  {
   "cell_type": "code",
   "execution_count": 18,
   "id": "7c0bffec",
   "metadata": {},
   "outputs": [
    {
     "name": "stdout",
     "output_type": "stream",
     "text": [
      "Total number of unique value of Category: 37\n",
      " \n",
      "Top 10 Crime Category\n",
      "+--------------+----------+\n",
      "|      Category|totalValue|\n",
      "+--------------+----------+\n",
      "| larceny/theft|    477975|\n",
      "|other offenses|    301874|\n",
      "|  non-criminal|    236928|\n",
      "|       assault|    167042|\n",
      "| vehicle theft|    126228|\n",
      "| drug/narcotic|    117821|\n",
      "|     vandalism|    114718|\n",
      "|      warrants|     99821|\n",
      "|      burglary|     91067|\n",
      "|suspicious occ|     79087|\n",
      "+--------------+----------+\n",
      "only showing top 10 rows\n",
      "\n",
      " \n",
      " \n",
      "Total number of unique value of Description: 847\n",
      " \n",
      "Top 10 Crime Description\n",
      "+--------------------+----------+\n",
      "|         Description|totalValue|\n",
      "+--------------------+----------+\n",
      "|grand theft from ...|    178776|\n",
      "|       lost property|     77947|\n",
      "|             battery|     66321|\n",
      "|   stolen automobile|     64616|\n",
      "|drivers license, ...|     62372|\n",
      "|aided case, menta...|     56203|\n",
      "|      warrant arrest|     55123|\n",
      "|suspicious occurr...|     52253|\n",
      "|petty theft from ...|     51912|\n",
      "|petty theft of pr...|     46049|\n",
      "+--------------------+----------+\n",
      "only showing top 10 rows\n",
      "\n"
     ]
    }
   ],
   "source": [
    "def top_n_list(df,var, N):\n",
    "    '''\n",
    "    This function determine the top N numbers of the list\n",
    "    '''\n",
    "    print(\"Total number of unique value of\"+' '+var+''+':'+' '+str(df.select(var).distinct().count()))\n",
    "    print(' ')\n",
    "    print('Top'+' '+str(N)+' '+'Crime'+' '+var)\n",
    "    df.groupBy(var).count().withColumnRenamed('count','totalValue')\\\n",
    "    .orderBy(col('totalValue').desc()).show(N)\n",
    "    \n",
    "    \n",
    "top_n_list(data, 'Category',10)\n",
    "print(' ')\n",
    "print(' ')\n",
    "top_n_list(data,'Description',10)"
   ]
  },
  {
   "cell_type": "code",
   "execution_count": 19,
   "id": "2e3e4f5d",
   "metadata": {},
   "outputs": [
    {
     "data": {
      "text/plain": [
       "37"
      ]
     },
     "execution_count": 19,
     "metadata": {},
     "output_type": "execute_result"
    }
   ],
   "source": [
    "data.select('Category').distinct().count()"
   ]
  },
  {
   "cell_type": "code",
   "execution_count": 20,
   "id": "5a841754",
   "metadata": {},
   "outputs": [
    {
     "name": "stdout",
     "output_type": "stream",
     "text": [
      "Training Dataset Count: 1489572\n",
      "Test Dataset Count: 639953\n"
     ]
    }
   ],
   "source": [
    "training, test = data.randomSplit([0.7,0.3], seed=60)\n",
    "#trainingSet.cache()\n",
    "print(\"Training Dataset Count:\", training.count())\n",
    "print(\"Test Dataset Count:\", test.count())"
   ]
  },
  {
   "cell_type": "code",
   "execution_count": 21,
   "id": "8b0badb1",
   "metadata": {},
   "outputs": [],
   "source": [
    "from pyspark.ml.feature import RegexTokenizer, StopWordsRemover, CountVectorizer, OneHotEncoder, StringIndexer, VectorAssembler, HashingTF, IDF, Word2Vec\n",
    "from pyspark.ml import Pipeline\n",
    "from pyspark.ml.classification import LogisticRegression, NaiveBayes \n",
    "\n",
    "#----------------Define tokenizer with regextokenizer()------------------\n",
    "regex_tokenizer = RegexTokenizer(pattern='\\\\W')\\\n",
    "                  .setInputCol(\"Description\")\\\n",
    "                  .setOutputCol(\"tokens\")\n",
    "\n",
    "#----------------Define stopwords with stopwordsremover()---------------------\n",
    "extra_stopwords = ['http','amp','rt','t','c','the']\n",
    "stopwords_remover = StopWordsRemover()\\\n",
    "                    .setInputCol('tokens')\\\n",
    "                    .setOutputCol('filtered_words')\\\n",
    "                    .setStopWords(extra_stopwords)\n",
    "                    \n",
    "\n",
    "#----------Define bags of words using countVectorizer()---------------------------\n",
    "count_vectors = CountVectorizer(vocabSize=10000, minDF=5)\\\n",
    "               .setInputCol(\"filtered_words\")\\\n",
    "               .setOutputCol(\"features\")\n",
    "\n",
    "\n",
    "#-----------Using TF-IDF to vectorise features instead of countVectoriser-----------------\n",
    "hashingTf = HashingTF(numFeatures=10000)\\\n",
    "            .setInputCol(\"filtered_words\")\\\n",
    "            .setOutputCol(\"raw_features\")\n",
    "            \n",
    "#Use minDocFreq to remove sparse terms\n",
    "idf = IDF(minDocFreq=5)\\\n",
    "        .setInputCol(\"raw_features\")\\\n",
    "        .setOutputCol(\"features\")\n",
    "\n",
    "#---------------Define bag of words using Word2Vec---------------------------\n",
    "word2Vec = Word2Vec(vectorSize=1000, minCount=0)\\\n",
    "           .setInputCol(\"filtered_words\")\\\n",
    "           .setOutputCol(\"features\")\n",
    "\n",
    "#-----------Encode the Category variable into label using StringIndexer-----------\n",
    "label_string_idx = StringIndexer()\\\n",
    "                  .setInputCol(\"Category\")\\\n",
    "                  .setOutputCol(\"label\")\n",
    "\n",
    "#-----------Define classifier structure for logistic Regression--------------\n",
    "lr = LogisticRegression(maxIter=20, regParam=0.3, elasticNetParam=0)\n",
    "\n",
    "#---------Define classifier structure for Naive Bayes----------\n",
    "nb = NaiveBayes(smoothing=1)\n",
    "\n",
    "def metrics_ev(labels, metrics):\n",
    "    '''\n",
    "    List of all performance metrics\n",
    "    '''\n",
    "    # Confusion matrix\n",
    "    print(\"---------Confusion matrix-----------------\")\n",
    "    print(metrics.confusionMatrix)\n",
    "    print(' ')    \n",
    "    # Overall statistics\n",
    "    print('----------Overall statistics-----------')\n",
    "    print(\"Precision = %s\" %  metrics.precision())\n",
    "    print(\"Recall = %s\" %  metrics.recall())\n",
    "    print(\"F1 Score = %s\" % metrics.fMeasure())\n",
    "    print(' ')\n",
    "    # Statistics by class\n",
    "    print('----------Statistics by class----------')\n",
    "    for label in sorted(labels):\n",
    "       print(\"Class %s precision = %s\" % (label, metrics.precision(label)))\n",
    "       print(\"Class %s recall = %s\" % (label, metrics.recall(label)))\n",
    "       print(\"Class %s F1 Measure = %s\" % (label, metrics.fMeasure(label, beta=1.0)))\n",
    "    print(' ')\n",
    "    # Weighted stats\n",
    "    print('----------Weighted stats----------------')\n",
    "    print(\"Weighted recall = %s\" % metrics.weightedRecall)\n",
    "    print(\"Weighted precision = %s\" % metrics.weightedPrecision)\n",
    "    print(\"Weighted F(1) Score = %s\" % metrics.weightedFMeasure())\n",
    "    print(\"Weighted F(0.5) Score = %s\" % metrics.weightedFMeasure(beta=0.5))\n",
    "    print(\"Weighted false positive rate = %s\" % metrics.weightedFalsePositiveRate)"
   ]
  },
  {
   "cell_type": "code",
   "execution_count": 22,
   "id": "46627d46",
   "metadata": {},
   "outputs": [],
   "source": [
    "pipeline_cv_lr = Pipeline().setStages([regex_tokenizer,stopwords_remover,count_vectors,label_string_idx, lr])\n",
    "model_cv_lr = pipeline_cv_lr.fit(training)\n",
    "predictions_cv_lr = model_cv_lr.transform(test)"
   ]
  },
  {
   "cell_type": "code",
   "execution_count": 23,
   "id": "aaadb4ce",
   "metadata": {},
   "outputs": [
    {
     "name": "stdout",
     "output_type": "stream",
     "text": [
      "-----------------------------Check Top 5 predictions----------------------------------\n",
      " \n",
      "+------------------------------+-------------+------------------------------+-----+----------+\n",
      "|                   Description|     Category|                   probability|label|prediction|\n",
      "+------------------------------+-------------+------------------------------+-----+----------+\n",
      "|theft, bicycle, <$50, no se...|larceny/theft|[0.8760164820663662,0.02102...|  0.0|       0.0|\n",
      "|theft, bicycle, <$50, no se...|larceny/theft|[0.8760164820663662,0.02102...|  0.0|       0.0|\n",
      "|theft, bicycle, <$50, no se...|larceny/theft|[0.8760164820663662,0.02102...|  0.0|       0.0|\n",
      "|theft, bicycle, <$50, no se...|larceny/theft|[0.8760164820663662,0.02102...|  0.0|       0.0|\n",
      "|theft, bicycle, <$50, no se...|larceny/theft|[0.8760164820663662,0.02102...|  0.0|       0.0|\n",
      "+------------------------------+-------------+------------------------------+-----+----------+\n",
      "only showing top 5 rows\n",
      "\n"
     ]
    }
   ],
   "source": [
    "print('-----------------------------Check Top 5 predictions----------------------------------')\n",
    "print(' ')\n",
    "predictions_cv_lr.select('Description','Category',\"probability\",\"label\",\"prediction\")\\\n",
    "                                        .orderBy(\"probability\", ascending=False)\\\n",
    "                                        .show(n=5, truncate=30)"
   ]
  },
  {
   "cell_type": "code",
   "execution_count": 24,
   "id": "ef938193",
   "metadata": {},
   "outputs": [
    {
     "name": "stdout",
     "output_type": "stream",
     "text": [
      " \n",
      "------------------------------Accuracy----------------------------------\n",
      " \n",
      "                       accuracy:0.9779452699308976:\n"
     ]
    }
   ],
   "source": [
    "from pyspark.ml.evaluation import MulticlassClassificationEvaluator \n",
    "evaluator_cv_lr = MulticlassClassificationEvaluator().setPredictionCol(\"prediction\").evaluate(predictions_cv_lr)\n",
    "print(' ')\n",
    "print('------------------------------Accuracy----------------------------------')\n",
    "print(' ')\n",
    "print('                       accuracy:{}:'.format(evaluator_cv_lr))"
   ]
  },
  {
   "cell_type": "code",
   "execution_count": 25,
   "id": "43427b7e",
   "metadata": {},
   "outputs": [],
   "source": [
    "### Secondary model using NaiveBayes\n",
    "pipeline_cv_nb = Pipeline().setStages([regex_tokenizer,stopwords_remover,count_vectors,label_string_idx, nb])\n",
    "model_cv_nb = pipeline_cv_nb.fit(training)\n",
    "predictions_cv_nb = model_cv_nb.transform(test)"
   ]
  },
  {
   "cell_type": "code",
   "execution_count": 26,
   "id": "65cf10ea",
   "metadata": {},
   "outputs": [
    {
     "name": "stdout",
     "output_type": "stream",
     "text": [
      " \n",
      "--------------------------Accuracy-----------------------------\n",
      " \n",
      "                      accuracy:0.9943617840097905:\n"
     ]
    }
   ],
   "source": [
    "evaluator_cv_nb = MulticlassClassificationEvaluator().setPredictionCol(\"prediction\").evaluate(predictions_cv_nb)\n",
    "print(' ')\n",
    "print('--------------------------Accuracy-----------------------------')\n",
    "print(' ')\n",
    "print('                      accuracy:{}:'.format(evaluator_cv_nb))"
   ]
  },
  {
   "cell_type": "code",
   "execution_count": 27,
   "id": "7c9d1708",
   "metadata": {},
   "outputs": [],
   "source": [
    "pipeline_idf_lr = Pipeline().setStages([regex_tokenizer,stopwords_remover,hashingTf, idf, label_string_idx, lr])\n",
    "model_idf_lr = pipeline_idf_lr.fit(training)\n",
    "predictions_idf_lr = model_idf_lr.transform(test)"
   ]
  },
  {
   "cell_type": "code",
   "execution_count": 28,
   "id": "220f6c2e",
   "metadata": {},
   "outputs": [
    {
     "name": "stdout",
     "output_type": "stream",
     "text": [
      "-----------------------------Check Top 5 predictions----------------------------------\n",
      " \n",
      "+------------------------------+-------------+------------------------------+-----+----------+\n",
      "|                   Description|     Category|                   probability|label|prediction|\n",
      "+------------------------------+-------------+------------------------------+-----+----------+\n",
      "|theft, bicycle, <$50, no se...|larceny/theft|[0.8836390132319979,0.01982...|  0.0|       0.0|\n",
      "|theft, bicycle, <$50, no se...|larceny/theft|[0.8836390132319979,0.01982...|  0.0|       0.0|\n",
      "|theft, bicycle, <$50, no se...|larceny/theft|[0.8836390132319979,0.01982...|  0.0|       0.0|\n",
      "|theft, bicycle, <$50, no se...|larceny/theft|[0.8836390132319979,0.01982...|  0.0|       0.0|\n",
      "|theft, bicycle, <$50, no se...|larceny/theft|[0.8836390132319979,0.01982...|  0.0|       0.0|\n",
      "+------------------------------+-------------+------------------------------+-----+----------+\n",
      "only showing top 5 rows\n",
      "\n"
     ]
    }
   ],
   "source": [
    "print('-----------------------------Check Top 5 predictions----------------------------------')\n",
    "print(' ')\n",
    "predictions_idf_lr.select('Description','Category',\"probability\",\"label\",\"prediction\")\\\n",
    "                                        .orderBy(\"probability\", ascending=False)\\\n",
    "                                        .show(n=5, truncate=30)"
   ]
  },
  {
   "cell_type": "code",
   "execution_count": 29,
   "id": "b94e066f",
   "metadata": {},
   "outputs": [
    {
     "name": "stdout",
     "output_type": "stream",
     "text": [
      " \n",
      "-------------------------------Accuracy---------------------------------\n",
      " \n",
      "                        accuracy:0.9772466482808572:\n"
     ]
    }
   ],
   "source": [
    "evaluator_idf_lr = MulticlassClassificationEvaluator().setPredictionCol(\"prediction\").evaluate(predictions_idf_lr)\n",
    "print(' ')\n",
    "print('-------------------------------Accuracy---------------------------------')\n",
    "print(' ')\n",
    "print('                        accuracy:{}:'.format(evaluator_idf_lr))"
   ]
  },
  {
   "cell_type": "code",
   "execution_count": 30,
   "id": "4bc15cd8",
   "metadata": {},
   "outputs": [],
   "source": [
    "pipeline_idf_nb = Pipeline().setStages([regex_tokenizer,stopwords_remover,hashingTf, idf, label_string_idx, nb])\n",
    "model_idf_nb = pipeline_idf_nb.fit(training)\n",
    "predictions_idf_nb = model_idf_nb.transform(test)"
   ]
  },
  {
   "cell_type": "code",
   "execution_count": 31,
   "id": "2c08e1f0",
   "metadata": {},
   "outputs": [
    {
     "name": "stdout",
     "output_type": "stream",
     "text": [
      " \n",
      "-----------------------------Accuracy-----------------------------\n",
      " \n",
      "                          accuracy:0.9949479475778635:\n"
     ]
    }
   ],
   "source": [
    "evaluator_idf_nb = MulticlassClassificationEvaluator().setPredictionCol(\"prediction\").evaluate(predictions_idf_nb)\n",
    "print(' ')\n",
    "print('-----------------------------Accuracy-----------------------------')\n",
    "print(' ')\n",
    "print('                          accuracy:{}:'.format(evaluator_idf_nb))"
   ]
  },
  {
   "cell_type": "code",
   "execution_count": null,
   "id": "7d710160",
   "metadata": {},
   "outputs": [],
   "source": []
  },
  {
   "cell_type": "code",
   "execution_count": null,
   "id": "7f805527",
   "metadata": {},
   "outputs": [],
   "source": []
  }
 ],
 "metadata": {
  "kernelspec": {
   "display_name": "Python 3 (ipykernel)",
   "language": "python",
   "name": "python3"
  },
  "language_info": {
   "codemirror_mode": {
    "name": "ipython",
    "version": 3
   },
   "file_extension": ".py",
   "mimetype": "text/x-python",
   "name": "python",
   "nbconvert_exporter": "python",
   "pygments_lexer": "ipython3",
   "version": "3.11.3"
  }
 },
 "nbformat": 4,
 "nbformat_minor": 5
}
